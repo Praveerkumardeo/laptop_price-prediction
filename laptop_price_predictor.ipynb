{
  "cells": [
    {
      "cell_type": "code",
      "execution_count": 110,
      "id": "82edeb04",
      "metadata": {
        "id": "82edeb04"
      },
      "outputs": [],
      "source": [
        "import numpy as np\n",
        "import pandas as pd\n",
        "import matplotlib.pyplot as plt"
      ]
    },
    {
      "cell_type": "code",
      "execution_count": 111,
      "id": "203583d9",
      "metadata": {
        "id": "203583d9"
      },
      "outputs": [],
      "source": [
        "df = pd.read_csv('laptop_price_data.csv')"
      ]
    },
    {
      "cell_type": "code",
      "execution_count": 112,
      "id": "5106314a",
      "metadata": {
        "colab": {
          "base_uri": "https://localhost:8080/",
          "height": 573
        },
        "id": "5106314a",
        "outputId": "e5c8a0ef-a0cc-4572-ca08-137af31baab8"
      },
      "outputs": [
        {
          "data": {
            "text/html": [
              "<div>\n",
              "<style scoped>\n",
              "    .dataframe tbody tr th:only-of-type {\n",
              "        vertical-align: middle;\n",
              "    }\n",
              "\n",
              "    .dataframe tbody tr th {\n",
              "        vertical-align: top;\n",
              "    }\n",
              "\n",
              "    .dataframe thead th {\n",
              "        text-align: right;\n",
              "    }\n",
              "</style>\n",
              "<table border=\"1\" class=\"dataframe\">\n",
              "  <thead>\n",
              "    <tr style=\"text-align: right;\">\n",
              "      <th></th>\n",
              "      <th>index</th>\n",
              "      <th>brand</th>\n",
              "      <th>Model</th>\n",
              "      <th>gpu_type</th>\n",
              "      <th>Vram</th>\n",
              "      <th>processor_brand</th>\n",
              "      <th>processor_tier</th>\n",
              "      <th>ram_memory</th>\n",
              "      <th>primary_storage_type</th>\n",
              "      <th>primary_storage_capacity</th>\n",
              "      <th>is_touch_screen</th>\n",
              "      <th>display_size</th>\n",
              "      <th>resolution_width</th>\n",
              "      <th>resolution_height</th>\n",
              "      <th>OS</th>\n",
              "      <th>Price</th>\n",
              "    </tr>\n",
              "  </thead>\n",
              "  <tbody>\n",
              "    <tr>\n",
              "      <th>0</th>\n",
              "      <td>1</td>\n",
              "      <td>tecno</td>\n",
              "      <td>Tecno Megabook T1 Laptop (11th Gen Core i3/ 8G...</td>\n",
              "      <td>integrated</td>\n",
              "      <td>0</td>\n",
              "      <td>intel</td>\n",
              "      <td>core i3</td>\n",
              "      <td>8</td>\n",
              "      <td>True</td>\n",
              "      <td>512</td>\n",
              "      <td>False</td>\n",
              "      <td>15.6</td>\n",
              "      <td>1920</td>\n",
              "      <td>1080</td>\n",
              "      <td>windows</td>\n",
              "      <td>23990</td>\n",
              "    </tr>\n",
              "    <tr>\n",
              "      <th>1</th>\n",
              "      <td>2</td>\n",
              "      <td>tecno</td>\n",
              "      <td>Tecno Megabook T1 Laptop (11th Gen Core i7/ 16...</td>\n",
              "      <td>integrated</td>\n",
              "      <td>0</td>\n",
              "      <td>intel</td>\n",
              "      <td>core i7</td>\n",
              "      <td>16</td>\n",
              "      <td>True</td>\n",
              "      <td>1024</td>\n",
              "      <td>False</td>\n",
              "      <td>15.6</td>\n",
              "      <td>1920</td>\n",
              "      <td>1080</td>\n",
              "      <td>windows</td>\n",
              "      <td>35990</td>\n",
              "    </tr>\n",
              "    <tr>\n",
              "      <th>2</th>\n",
              "      <td>3</td>\n",
              "      <td>hp</td>\n",
              "      <td>HP Victus 15-fb0157AX Gaming Laptop (AMD Ryzen...</td>\n",
              "      <td>dedicated</td>\n",
              "      <td>4</td>\n",
              "      <td>amd</td>\n",
              "      <td>ryzen 5</td>\n",
              "      <td>8</td>\n",
              "      <td>True</td>\n",
              "      <td>512</td>\n",
              "      <td>False</td>\n",
              "      <td>15.6</td>\n",
              "      <td>1920</td>\n",
              "      <td>1080</td>\n",
              "      <td>windows</td>\n",
              "      <td>51100</td>\n",
              "    </tr>\n",
              "    <tr>\n",
              "      <th>3</th>\n",
              "      <td>4</td>\n",
              "      <td>acer</td>\n",
              "      <td>Acer Extensa EX214-53 Laptop (12th Gen Core i5...</td>\n",
              "      <td>integrated</td>\n",
              "      <td>0</td>\n",
              "      <td>intel</td>\n",
              "      <td>core i5</td>\n",
              "      <td>8</td>\n",
              "      <td>True</td>\n",
              "      <td>512</td>\n",
              "      <td>False</td>\n",
              "      <td>14.0</td>\n",
              "      <td>1920</td>\n",
              "      <td>1080</td>\n",
              "      <td>windows</td>\n",
              "      <td>39990</td>\n",
              "    </tr>\n",
              "    <tr>\n",
              "      <th>4</th>\n",
              "      <td>5</td>\n",
              "      <td>lenovo</td>\n",
              "      <td>Lenovo V15 82KDA01BIH Laptop (AMD Ryzen 3 5300...</td>\n",
              "      <td>integrated</td>\n",
              "      <td>0</td>\n",
              "      <td>amd</td>\n",
              "      <td>ryzen 3</td>\n",
              "      <td>8</td>\n",
              "      <td>True</td>\n",
              "      <td>512</td>\n",
              "      <td>False</td>\n",
              "      <td>15.6</td>\n",
              "      <td>1920</td>\n",
              "      <td>1080</td>\n",
              "      <td>windows</td>\n",
              "      <td>28580</td>\n",
              "    </tr>\n",
              "  </tbody>\n",
              "</table>\n",
              "</div>"
            ],
            "text/plain": [
              "   index   brand                                              Model  \\\n",
              "0      1   tecno  Tecno Megabook T1 Laptop (11th Gen Core i3/ 8G...   \n",
              "1      2   tecno  Tecno Megabook T1 Laptop (11th Gen Core i7/ 16...   \n",
              "2      3      hp  HP Victus 15-fb0157AX Gaming Laptop (AMD Ryzen...   \n",
              "3      4    acer  Acer Extensa EX214-53 Laptop (12th Gen Core i5...   \n",
              "4      5  lenovo  Lenovo V15 82KDA01BIH Laptop (AMD Ryzen 3 5300...   \n",
              "\n",
              "     gpu_type  Vram processor_brand processor_tier  ram_memory  \\\n",
              "0  integrated     0           intel        core i3           8   \n",
              "1  integrated     0           intel        core i7          16   \n",
              "2   dedicated     4             amd        ryzen 5           8   \n",
              "3  integrated     0           intel        core i5           8   \n",
              "4  integrated     0             amd        ryzen 3           8   \n",
              "\n",
              "   primary_storage_type  primary_storage_capacity  is_touch_screen  \\\n",
              "0                  True                       512            False   \n",
              "1                  True                      1024            False   \n",
              "2                  True                       512            False   \n",
              "3                  True                       512            False   \n",
              "4                  True                       512            False   \n",
              "\n",
              "   display_size  resolution_width  resolution_height       OS  Price  \n",
              "0          15.6              1920               1080  windows  23990  \n",
              "1          15.6              1920               1080  windows  35990  \n",
              "2          15.6              1920               1080  windows  51100  \n",
              "3          14.0              1920               1080  windows  39990  \n",
              "4          15.6              1920               1080  windows  28580  "
            ]
          },
          "execution_count": 112,
          "metadata": {},
          "output_type": "execute_result"
        }
      ],
      "source": [
        "df.head()"
      ]
    },
    {
      "cell_type": "code",
      "execution_count": 113,
      "id": "5df0e810",
      "metadata": {
        "colab": {
          "base_uri": "https://localhost:8080/"
        },
        "id": "5df0e810",
        "outputId": "78d0e8ee-ae8b-4b39-a173-ab899af33bec"
      },
      "outputs": [],
      "source": [
        "# df.shape"
      ]
    },
    {
      "cell_type": "code",
      "execution_count": 114,
      "id": "2721be49",
      "metadata": {
        "colab": {
          "base_uri": "https://localhost:8080/"
        },
        "id": "2721be49",
        "outputId": "f7cc8a0a-1dd0-41ee-e5fb-ca094dbc17e8"
      },
      "outputs": [],
      "source": [
        "# df.info()"
      ]
    },
    {
      "cell_type": "code",
      "execution_count": 115,
      "id": "d623a6c1",
      "metadata": {
        "colab": {
          "base_uri": "https://localhost:8080/"
        },
        "id": "d623a6c1",
        "outputId": "fd299f50-f92f-4077-a8df-5cfc0702adc1"
      },
      "outputs": [],
      "source": [
        "# df.duplicated().sum()"
      ]
    },
    {
      "cell_type": "code",
      "execution_count": 116,
      "id": "a3e5e8f5",
      "metadata": {
        "colab": {
          "base_uri": "https://localhost:8080/"
        },
        "id": "a3e5e8f5",
        "outputId": "2c3e03b1-2c89-41d4-fe55-4ea4ef9c1970"
      },
      "outputs": [],
      "source": [
        "# df.isnull().sum()"
      ]
    },
    {
      "cell_type": "code",
      "execution_count": 117,
      "id": "eb483c70",
      "metadata": {
        "id": "eb483c70"
      },
      "outputs": [],
      "source": [
        "df['ppi'] = (((df['resolution_width']**2) + (df['resolution_height']**2))**0.5/df['display_size']).astype('float')\n",
        "df.drop(columns=['index','display_size','resolution_width', 'resolution_height', 'Model'],inplace=True)"
      ]
    },
    {
      "cell_type": "code",
      "execution_count": 118,
      "id": "HLv62PW7krqO",
      "metadata": {
        "id": "HLv62PW7krqO"
      },
      "outputs": [],
      "source": [
        "df['cpu'] = df['processor_brand'] + ' ' + df['processor_tier']\n",
        "df['cpu'].value_counts()\n",
        "df.drop(columns=['processor_brand', 'processor_tier'],inplace=True)"
      ]
    },
    {
      "cell_type": "code",
      "execution_count": 119,
      "id": "sAtTJuq4kuZu",
      "metadata": {
        "colab": {
          "base_uri": "https://localhost:8080/",
          "height": 206
        },
        "id": "sAtTJuq4kuZu",
        "outputId": "3d056e53-4e7f-49c0-9a97-35e6d54e85b9"
      },
      "outputs": [
        {
          "data": {
            "text/html": [
              "<div>\n",
              "<style scoped>\n",
              "    .dataframe tbody tr th:only-of-type {\n",
              "        vertical-align: middle;\n",
              "    }\n",
              "\n",
              "    .dataframe tbody tr th {\n",
              "        vertical-align: top;\n",
              "    }\n",
              "\n",
              "    .dataframe thead th {\n",
              "        text-align: right;\n",
              "    }\n",
              "</style>\n",
              "<table border=\"1\" class=\"dataframe\">\n",
              "  <thead>\n",
              "    <tr style=\"text-align: right;\">\n",
              "      <th></th>\n",
              "      <th>brand</th>\n",
              "      <th>gpu_type</th>\n",
              "      <th>Vram</th>\n",
              "      <th>ram_memory</th>\n",
              "      <th>primary_storage_type</th>\n",
              "      <th>primary_storage_capacity</th>\n",
              "      <th>is_touch_screen</th>\n",
              "      <th>OS</th>\n",
              "      <th>Price</th>\n",
              "      <th>ppi</th>\n",
              "      <th>cpu</th>\n",
              "    </tr>\n",
              "  </thead>\n",
              "  <tbody>\n",
              "    <tr>\n",
              "      <th>0</th>\n",
              "      <td>tecno</td>\n",
              "      <td>integrated</td>\n",
              "      <td>0</td>\n",
              "      <td>8</td>\n",
              "      <td>True</td>\n",
              "      <td>512</td>\n",
              "      <td>False</td>\n",
              "      <td>windows</td>\n",
              "      <td>23990</td>\n",
              "      <td>141.211998</td>\n",
              "      <td>intel core i3</td>\n",
              "    </tr>\n",
              "    <tr>\n",
              "      <th>1</th>\n",
              "      <td>tecno</td>\n",
              "      <td>integrated</td>\n",
              "      <td>0</td>\n",
              "      <td>16</td>\n",
              "      <td>True</td>\n",
              "      <td>1024</td>\n",
              "      <td>False</td>\n",
              "      <td>windows</td>\n",
              "      <td>35990</td>\n",
              "      <td>141.211998</td>\n",
              "      <td>intel core i7</td>\n",
              "    </tr>\n",
              "    <tr>\n",
              "      <th>2</th>\n",
              "      <td>hp</td>\n",
              "      <td>dedicated</td>\n",
              "      <td>4</td>\n",
              "      <td>8</td>\n",
              "      <td>True</td>\n",
              "      <td>512</td>\n",
              "      <td>False</td>\n",
              "      <td>windows</td>\n",
              "      <td>51100</td>\n",
              "      <td>141.211998</td>\n",
              "      <td>amd ryzen 5</td>\n",
              "    </tr>\n",
              "    <tr>\n",
              "      <th>3</th>\n",
              "      <td>acer</td>\n",
              "      <td>integrated</td>\n",
              "      <td>0</td>\n",
              "      <td>8</td>\n",
              "      <td>True</td>\n",
              "      <td>512</td>\n",
              "      <td>False</td>\n",
              "      <td>windows</td>\n",
              "      <td>39990</td>\n",
              "      <td>157.350512</td>\n",
              "      <td>intel core i5</td>\n",
              "    </tr>\n",
              "    <tr>\n",
              "      <th>4</th>\n",
              "      <td>lenovo</td>\n",
              "      <td>integrated</td>\n",
              "      <td>0</td>\n",
              "      <td>8</td>\n",
              "      <td>True</td>\n",
              "      <td>512</td>\n",
              "      <td>False</td>\n",
              "      <td>windows</td>\n",
              "      <td>28580</td>\n",
              "      <td>141.211998</td>\n",
              "      <td>amd ryzen 3</td>\n",
              "    </tr>\n",
              "  </tbody>\n",
              "</table>\n",
              "</div>"
            ],
            "text/plain": [
              "    brand    gpu_type  Vram  ram_memory  primary_storage_type  \\\n",
              "0   tecno  integrated     0           8                  True   \n",
              "1   tecno  integrated     0          16                  True   \n",
              "2      hp   dedicated     4           8                  True   \n",
              "3    acer  integrated     0           8                  True   \n",
              "4  lenovo  integrated     0           8                  True   \n",
              "\n",
              "   primary_storage_capacity  is_touch_screen       OS  Price         ppi  \\\n",
              "0                       512            False  windows  23990  141.211998   \n",
              "1                      1024            False  windows  35990  141.211998   \n",
              "2                       512            False  windows  51100  141.211998   \n",
              "3                       512            False  windows  39990  157.350512   \n",
              "4                       512            False  windows  28580  141.211998   \n",
              "\n",
              "             cpu  \n",
              "0  intel core i3  \n",
              "1  intel core i7  \n",
              "2    amd ryzen 5  \n",
              "3  intel core i5  \n",
              "4    amd ryzen 3  "
            ]
          },
          "execution_count": 119,
          "metadata": {},
          "output_type": "execute_result"
        }
      ],
      "source": [
        "df.head()"
      ]
    },
    {
      "cell_type": "code",
      "execution_count": 120,
      "id": "51e9c4c5",
      "metadata": {
        "id": "51e9c4c5"
      },
      "outputs": [],
      "source": [
        "import seaborn as sns"
      ]
    },
    {
      "cell_type": "code",
      "execution_count": 121,
      "id": "37e41400",
      "metadata": {
        "colab": {
          "base_uri": "https://localhost:8080/",
          "height": 673
        },
        "id": "37e41400",
        "outputId": "729fdcb0-4db5-4815-98c4-650bb2b32b7c"
      },
      "outputs": [],
      "source": [
        "# sns.distplot(df['Price'])"
      ]
    },
    {
      "cell_type": "code",
      "execution_count": 122,
      "id": "505d0590",
      "metadata": {
        "colab": {
          "base_uri": "https://localhost:8080/",
          "height": 527
        },
        "id": "505d0590",
        "outputId": "92bb2c45-e6d8-477a-97d2-cd1698850c59"
      },
      "outputs": [],
      "source": [
        "# df['brand'].value_counts().plot(kind='bar')"
      ]
    },
    {
      "cell_type": "code",
      "execution_count": 123,
      "id": "894b0057",
      "metadata": {
        "colab": {
          "base_uri": "https://localhost:8080/",
          "height": 513
        },
        "id": "894b0057",
        "outputId": "e7bf2dbf-8655-436c-bd11-3c9928b1d90d"
      },
      "outputs": [],
      "source": [
        "# sns.barplot(x=df['brand'],y=df['Price'])\n",
        "# plt.xticks(rotation='vertical')\n",
        "# plt.show()"
      ]
    },
    {
      "cell_type": "code",
      "execution_count": 124,
      "id": "07992d2e",
      "metadata": {
        "colab": {
          "base_uri": "https://localhost:8080/",
          "height": 206
        },
        "id": "07992d2e",
        "outputId": "556369b6-be90-49fb-cbb7-0ec8d9e0b8da"
      },
      "outputs": [],
      "source": [
        "# df.sample(5)"
      ]
    },
    {
      "cell_type": "code",
      "execution_count": 125,
      "id": "2fa50fd6",
      "metadata": {
        "colab": {
          "base_uri": "https://localhost:8080/",
          "height": 487
        },
        "id": "2fa50fd6",
        "outputId": "268e9d69-67f9-4a88-c070-e669f7d58383"
      },
      "outputs": [],
      "source": [
        "# df['is_touch_screen'].value_counts().plot(kind='bar')"
      ]
    },
    {
      "cell_type": "code",
      "execution_count": 126,
      "id": "d1b428b4",
      "metadata": {
        "colab": {
          "base_uri": "https://localhost:8080/",
          "height": 467
        },
        "id": "d1b428b4",
        "outputId": "5fb33fa6-678c-4ac3-efe0-85e0abe85340"
      },
      "outputs": [],
      "source": [
        "# sns.barplot(x=df['is_touch_screen'],y=df['Price'])"
      ]
    },
    {
      "cell_type": "code",
      "execution_count": 127,
      "id": "HCo81UwFgJnx",
      "metadata": {
        "colab": {
          "base_uri": "https://localhost:8080/"
        },
        "id": "HCo81UwFgJnx",
        "outputId": "79493aef-af50-4696-a160-aaaa56f141c4"
      },
      "outputs": [],
      "source": [
        "# df_numeric = df.select_dtypes(include=['number'])\n",
        "# df_numeric.corr()['Price']"
      ]
    },
    {
      "cell_type": "code",
      "execution_count": 128,
      "id": "67a784ea",
      "metadata": {
        "colab": {
          "base_uri": "https://localhost:8080/",
          "height": 80
        },
        "id": "67a784ea",
        "outputId": "63752ee6-b40e-488e-8c38-550feb445424"
      },
      "outputs": [],
      "source": [
        "# df.head(1)"
      ]
    },
    {
      "cell_type": "code",
      "execution_count": 129,
      "id": "bdc8ec9f",
      "metadata": {
        "colab": {
          "base_uri": "https://localhost:8080/",
          "height": 571
        },
        "id": "bdc8ec9f",
        "outputId": "77cd1594-ed0c-4973-f4d0-e1c140c84651"
      },
      "outputs": [],
      "source": [
        "# df['cpu'].value_counts().plot(kind='bar')"
      ]
    },
    {
      "cell_type": "code",
      "execution_count": 130,
      "id": "1a8350f0",
      "metadata": {
        "colab": {
          "base_uri": "https://localhost:8080/",
          "height": 550
        },
        "id": "1a8350f0",
        "outputId": "22786555-f64a-4b42-97c8-00cc8b11ee33"
      },
      "outputs": [],
      "source": [
        "# sns.barplot(x=df['cpu'],y=df['Price'])\n",
        "# plt.xticks(rotation='vertical')\n",
        "# plt.show()"
      ]
    },
    {
      "cell_type": "code",
      "execution_count": 131,
      "id": "b6cd52b7",
      "metadata": {
        "colab": {
          "base_uri": "https://localhost:8080/",
          "height": 470
        },
        "id": "b6cd52b7",
        "outputId": "dc611d8f-0afb-423e-9828-583e307126a7"
      },
      "outputs": [],
      "source": [
        "# df['ram_memory'].value_counts().plot(kind='bar')"
      ]
    },
    {
      "cell_type": "code",
      "execution_count": 132,
      "id": "ca0e2e0b",
      "metadata": {
        "colab": {
          "base_uri": "https://localhost:8080/",
          "height": 453
        },
        "id": "ca0e2e0b",
        "outputId": "49550b8e-676f-465c-aa87-ccc0212c16e6"
      },
      "outputs": [],
      "source": [
        "# sns.barplot(x=df['ram_memory'],y=df['Price'])\n",
        "# plt.xticks(rotation='vertical')\n",
        "# plt.show()"
      ]
    },
    {
      "cell_type": "code",
      "execution_count": 133,
      "id": "666f7f39",
      "metadata": {
        "colab": {
          "base_uri": "https://localhost:8080/",
          "height": 470
        },
        "id": "666f7f39",
        "outputId": "b9053007-5b12-4fa9-aba8-d83ee310158a"
      },
      "outputs": [],
      "source": [
        "# df['Vram'].value_counts().plot(kind='bar')"
      ]
    },
    {
      "cell_type": "code",
      "execution_count": 134,
      "id": "e5250511",
      "metadata": {
        "colab": {
          "base_uri": "https://localhost:8080/",
          "height": 453
        },
        "id": "e5250511",
        "outputId": "186149b5-6016-422a-ac5e-d0e692b149b9"
      },
      "outputs": [],
      "source": [
        "# sns.barplot(x=df['Vram'],y=df['Price'])\n",
        "# plt.xticks(rotation='vertical')\n",
        "# plt.show()"
      ]
    },
    {
      "cell_type": "code",
      "execution_count": 135,
      "id": "c4a1224b",
      "metadata": {
        "colab": {
          "base_uri": "https://localhost:8080/"
        },
        "id": "c4a1224b",
        "outputId": "20a9b07e-580f-40d4-98cc-97ff2e9ed86a"
      },
      "outputs": [],
      "source": [
        "# df['primary_storage_capacity'].value_counts()"
      ]
    },
    {
      "cell_type": "code",
      "execution_count": 136,
      "id": "65722933",
      "metadata": {
        "colab": {
          "base_uri": "https://localhost:8080/"
        },
        "id": "65722933",
        "outputId": "98f85b90-3f3a-4136-80ae-09c4bd5e5e76"
      },
      "outputs": [],
      "source": [
        "# df['gpu_type'].value_counts()"
      ]
    },
    {
      "cell_type": "code",
      "execution_count": 137,
      "id": "a102cfaa",
      "metadata": {
        "colab": {
          "base_uri": "https://localhost:8080/",
          "height": 511
        },
        "id": "a102cfaa",
        "outputId": "ee2b7917-2e1c-4775-a059-eb87765393e9"
      },
      "outputs": [],
      "source": [
        "# sns.barplot(x=df['gpu_type'],y=df['Price'],estimator=np.median)\n",
        "# plt.xticks(rotation='vertical')\n",
        "# plt.show()"
      ]
    },
    {
      "cell_type": "code",
      "execution_count": 138,
      "id": "87ea542b",
      "metadata": {
        "colab": {
          "base_uri": "https://localhost:8080/"
        },
        "id": "87ea542b",
        "outputId": "ec3c5610-4836-4170-abbf-d6b7c0991125"
      },
      "outputs": [],
      "source": [
        "# df['OS'].value_counts()"
      ]
    },
    {
      "cell_type": "code",
      "execution_count": 139,
      "id": "14cbb277",
      "metadata": {
        "colab": {
          "base_uri": "https://localhost:8080/",
          "height": 495
        },
        "id": "14cbb277",
        "outputId": "e463b3f0-af4f-4360-815a-e3b0ac8aa8e4"
      },
      "outputs": [],
      "source": [
        "# sns.barplot(x=df['OS'],y=df['Price'])\n",
        "# plt.xticks(rotation='vertical')\n",
        "# plt.show()"
      ]
    },
    {
      "cell_type": "code",
      "execution_count": 140,
      "id": "95f097f3",
      "metadata": {
        "colab": {
          "base_uri": "https://localhost:8080/",
          "height": 619
        },
        "id": "95f097f3",
        "outputId": "961b55ec-edb8-4563-d569-2682a35e723b"
      },
      "outputs": [],
      "source": [
        "# sns.heatmap(df_numeric.corr())"
      ]
    },
    {
      "cell_type": "code",
      "execution_count": 141,
      "id": "3aaf8bc8",
      "metadata": {
        "colab": {
          "base_uri": "https://localhost:8080/",
          "height": 657
        },
        "id": "3aaf8bc8",
        "outputId": "95409ec5-dded-461a-af78-556ab1445279"
      },
      "outputs": [],
      "source": [
        "# sns.distplot(np.log(df['Price']))"
      ]
    },
    {
      "cell_type": "code",
      "execution_count": 142,
      "id": "8f1293c0",
      "metadata": {
        "id": "8f1293c0"
      },
      "outputs": [],
      "source": [
        "X = df.drop(columns=['Price'])\n",
        "y = np.log(df['Price'])"
      ]
    },
    {
      "cell_type": "code",
      "execution_count": 143,
      "id": "374d48d6",
      "metadata": {
        "colab": {
          "base_uri": "https://localhost:8080/",
          "height": 423
        },
        "id": "374d48d6",
        "outputId": "ee81ae7e-6e01-411d-8f2e-e8737625448b"
      },
      "outputs": [
        {
          "data": {
            "text/html": [
              "<div>\n",
              "<style scoped>\n",
              "    .dataframe tbody tr th:only-of-type {\n",
              "        vertical-align: middle;\n",
              "    }\n",
              "\n",
              "    .dataframe tbody tr th {\n",
              "        vertical-align: top;\n",
              "    }\n",
              "\n",
              "    .dataframe thead th {\n",
              "        text-align: right;\n",
              "    }\n",
              "</style>\n",
              "<table border=\"1\" class=\"dataframe\">\n",
              "  <thead>\n",
              "    <tr style=\"text-align: right;\">\n",
              "      <th></th>\n",
              "      <th>brand</th>\n",
              "      <th>gpu_type</th>\n",
              "      <th>Vram</th>\n",
              "      <th>ram_memory</th>\n",
              "      <th>primary_storage_type</th>\n",
              "      <th>primary_storage_capacity</th>\n",
              "      <th>is_touch_screen</th>\n",
              "      <th>OS</th>\n",
              "      <th>ppi</th>\n",
              "      <th>cpu</th>\n",
              "    </tr>\n",
              "  </thead>\n",
              "  <tbody>\n",
              "    <tr>\n",
              "      <th>0</th>\n",
              "      <td>tecno</td>\n",
              "      <td>integrated</td>\n",
              "      <td>0</td>\n",
              "      <td>8</td>\n",
              "      <td>True</td>\n",
              "      <td>512</td>\n",
              "      <td>False</td>\n",
              "      <td>windows</td>\n",
              "      <td>141.211998</td>\n",
              "      <td>intel core i3</td>\n",
              "    </tr>\n",
              "    <tr>\n",
              "      <th>1</th>\n",
              "      <td>tecno</td>\n",
              "      <td>integrated</td>\n",
              "      <td>0</td>\n",
              "      <td>16</td>\n",
              "      <td>True</td>\n",
              "      <td>1024</td>\n",
              "      <td>False</td>\n",
              "      <td>windows</td>\n",
              "      <td>141.211998</td>\n",
              "      <td>intel core i7</td>\n",
              "    </tr>\n",
              "    <tr>\n",
              "      <th>2</th>\n",
              "      <td>hp</td>\n",
              "      <td>dedicated</td>\n",
              "      <td>4</td>\n",
              "      <td>8</td>\n",
              "      <td>True</td>\n",
              "      <td>512</td>\n",
              "      <td>False</td>\n",
              "      <td>windows</td>\n",
              "      <td>141.211998</td>\n",
              "      <td>amd ryzen 5</td>\n",
              "    </tr>\n",
              "    <tr>\n",
              "      <th>3</th>\n",
              "      <td>acer</td>\n",
              "      <td>integrated</td>\n",
              "      <td>0</td>\n",
              "      <td>8</td>\n",
              "      <td>True</td>\n",
              "      <td>512</td>\n",
              "      <td>False</td>\n",
              "      <td>windows</td>\n",
              "      <td>157.350512</td>\n",
              "      <td>intel core i5</td>\n",
              "    </tr>\n",
              "    <tr>\n",
              "      <th>4</th>\n",
              "      <td>lenovo</td>\n",
              "      <td>integrated</td>\n",
              "      <td>0</td>\n",
              "      <td>8</td>\n",
              "      <td>True</td>\n",
              "      <td>512</td>\n",
              "      <td>False</td>\n",
              "      <td>windows</td>\n",
              "      <td>141.211998</td>\n",
              "      <td>amd ryzen 3</td>\n",
              "    </tr>\n",
              "    <tr>\n",
              "      <th>...</th>\n",
              "      <td>...</td>\n",
              "      <td>...</td>\n",
              "      <td>...</td>\n",
              "      <td>...</td>\n",
              "      <td>...</td>\n",
              "      <td>...</td>\n",
              "      <td>...</td>\n",
              "      <td>...</td>\n",
              "      <td>...</td>\n",
              "      <td>...</td>\n",
              "    </tr>\n",
              "    <tr>\n",
              "      <th>986</th>\n",
              "      <td>asus</td>\n",
              "      <td>dedicated</td>\n",
              "      <td>4</td>\n",
              "      <td>16</td>\n",
              "      <td>True</td>\n",
              "      <td>512</td>\n",
              "      <td>False</td>\n",
              "      <td>windows</td>\n",
              "      <td>141.211998</td>\n",
              "      <td>amd ryzen 5</td>\n",
              "    </tr>\n",
              "    <tr>\n",
              "      <th>987</th>\n",
              "      <td>msi</td>\n",
              "      <td>dedicated</td>\n",
              "      <td>6</td>\n",
              "      <td>16</td>\n",
              "      <td>True</td>\n",
              "      <td>512</td>\n",
              "      <td>False</td>\n",
              "      <td>windows</td>\n",
              "      <td>141.211998</td>\n",
              "      <td>intel core i7</td>\n",
              "    </tr>\n",
              "    <tr>\n",
              "      <th>988</th>\n",
              "      <td>asus</td>\n",
              "      <td>integrated</td>\n",
              "      <td>0</td>\n",
              "      <td>8</td>\n",
              "      <td>True</td>\n",
              "      <td>512</td>\n",
              "      <td>False</td>\n",
              "      <td>windows</td>\n",
              "      <td>141.211998</td>\n",
              "      <td>amd ryzen 5</td>\n",
              "    </tr>\n",
              "    <tr>\n",
              "      <th>989</th>\n",
              "      <td>asus</td>\n",
              "      <td>integrated</td>\n",
              "      <td>0</td>\n",
              "      <td>16</td>\n",
              "      <td>True</td>\n",
              "      <td>512</td>\n",
              "      <td>False</td>\n",
              "      <td>windows</td>\n",
              "      <td>215.633854</td>\n",
              "      <td>amd ryzen 5</td>\n",
              "    </tr>\n",
              "    <tr>\n",
              "      <th>990</th>\n",
              "      <td>hp</td>\n",
              "      <td>integrated</td>\n",
              "      <td>0</td>\n",
              "      <td>4</td>\n",
              "      <td>False</td>\n",
              "      <td>128</td>\n",
              "      <td>False</td>\n",
              "      <td>chrome</td>\n",
              "      <td>100.454670</td>\n",
              "      <td>intel celeron</td>\n",
              "    </tr>\n",
              "  </tbody>\n",
              "</table>\n",
              "<p>991 rows × 10 columns</p>\n",
              "</div>"
            ],
            "text/plain": [
              "      brand    gpu_type  Vram  ram_memory  primary_storage_type  \\\n",
              "0     tecno  integrated     0           8                  True   \n",
              "1     tecno  integrated     0          16                  True   \n",
              "2        hp   dedicated     4           8                  True   \n",
              "3      acer  integrated     0           8                  True   \n",
              "4    lenovo  integrated     0           8                  True   \n",
              "..      ...         ...   ...         ...                   ...   \n",
              "986    asus   dedicated     4          16                  True   \n",
              "987     msi   dedicated     6          16                  True   \n",
              "988    asus  integrated     0           8                  True   \n",
              "989    asus  integrated     0          16                  True   \n",
              "990      hp  integrated     0           4                 False   \n",
              "\n",
              "     primary_storage_capacity  is_touch_screen       OS         ppi  \\\n",
              "0                         512            False  windows  141.211998   \n",
              "1                        1024            False  windows  141.211998   \n",
              "2                         512            False  windows  141.211998   \n",
              "3                         512            False  windows  157.350512   \n",
              "4                         512            False  windows  141.211998   \n",
              "..                        ...              ...      ...         ...   \n",
              "986                       512            False  windows  141.211998   \n",
              "987                       512            False  windows  141.211998   \n",
              "988                       512            False  windows  141.211998   \n",
              "989                       512            False  windows  215.633854   \n",
              "990                       128            False   chrome  100.454670   \n",
              "\n",
              "               cpu  \n",
              "0    intel core i3  \n",
              "1    intel core i7  \n",
              "2      amd ryzen 5  \n",
              "3    intel core i5  \n",
              "4      amd ryzen 3  \n",
              "..             ...  \n",
              "986    amd ryzen 5  \n",
              "987  intel core i7  \n",
              "988    amd ryzen 5  \n",
              "989    amd ryzen 5  \n",
              "990  intel celeron  \n",
              "\n",
              "[991 rows x 10 columns]"
            ]
          },
          "execution_count": 143,
          "metadata": {},
          "output_type": "execute_result"
        }
      ],
      "source": [
        "X"
      ]
    },
    {
      "cell_type": "code",
      "execution_count": 144,
      "id": "9f66cd48",
      "metadata": {
        "colab": {
          "base_uri": "https://localhost:8080/"
        },
        "id": "9f66cd48",
        "outputId": "2b0c0805-8c30-4271-d8a5-d54a1528344b"
      },
      "outputs": [
        {
          "data": {
            "text/plain": [
              "0      10.085392\n",
              "1      10.490996\n",
              "2      10.841540\n",
              "3      10.596385\n",
              "4      10.260462\n",
              "         ...    \n",
              "986    11.097258\n",
              "987    11.429435\n",
              "988    10.714196\n",
              "989    11.127116\n",
              "990     9.951801\n",
              "Name: Price, Length: 991, dtype: float64"
            ]
          },
          "execution_count": 144,
          "metadata": {},
          "output_type": "execute_result"
        }
      ],
      "source": [
        "y"
      ]
    },
    {
      "cell_type": "code",
      "execution_count": 145,
      "id": "60a0aaf0",
      "metadata": {
        "id": "60a0aaf0"
      },
      "outputs": [],
      "source": [
        "from sklearn.model_selection import train_test_split\n",
        "X_train,X_test,y_train,y_test = train_test_split(X,y,test_size=0.15,random_state=2)"
      ]
    },
    {
      "cell_type": "code",
      "execution_count": 146,
      "id": "3e665d44",
      "metadata": {
        "id": "3e665d44",
        "outputId": "95266e68-1242-453c-fcb2-deea9ad36498"
      },
      "outputs": [],
      "source": [
        "# X_train"
      ]
    },
    {
      "cell_type": "code",
      "execution_count": 147,
      "id": "87288c45",
      "metadata": {
        "id": "87288c45"
      },
      "outputs": [],
      "source": [
        "from sklearn.compose import ColumnTransformer\n",
        "from sklearn.pipeline import Pipeline\n",
        "from sklearn.preprocessing import OneHotEncoder\n",
        "from sklearn.metrics import r2_score,mean_absolute_error"
      ]
    },
    {
      "cell_type": "code",
      "execution_count": 148,
      "id": "e83816b2",
      "metadata": {
        "id": "e83816b2"
      },
      "outputs": [],
      "source": [
        "from sklearn.linear_model import LinearRegression,Ridge,Lasso\n",
        "from sklearn.neighbors import KNeighborsRegressor\n",
        "from sklearn.tree import DecisionTreeRegressor\n",
        "from sklearn.ensemble import RandomForestRegressor,GradientBoostingRegressor,AdaBoostRegressor,ExtraTreesRegressor\n",
        "from sklearn.svm import SVR\n",
        "from xgboost import XGBRegressor"
      ]
    },
    {
      "cell_type": "code",
      "execution_count": 149,
      "id": "szejrCBmn1DJ",
      "metadata": {
        "id": "szejrCBmn1DJ"
      },
      "outputs": [],
      "source": [
        "from sklearn.model_selection import train_test_split\n",
        "X_train,X_test,y_train,y_test = train_test_split(X,y,test_size=0.15,random_state=2)"
      ]
    },
    {
      "cell_type": "code",
      "execution_count": 150,
      "id": "FY-ficNon2dB",
      "metadata": {
        "colab": {
          "base_uri": "https://localhost:8080/",
          "height": 423
        },
        "id": "FY-ficNon2dB",
        "outputId": "53e95b2a-567d-45d2-ca5b-76dd8d2ba949"
      },
      "outputs": [],
      "source": [
        "# X_train"
      ]
    },
    {
      "cell_type": "code",
      "execution_count": 151,
      "id": "2f9a9927",
      "metadata": {
        "colab": {
          "base_uri": "https://localhost:8080/",
          "height": 80
        },
        "id": "2f9a9927",
        "outputId": "99fba4e6-dc75-4c6d-97df-054b45d1477f"
      },
      "outputs": [],
      "source": [
        "# X.head(1)"
      ]
    },
    {
      "cell_type": "markdown",
      "id": "a9b9b064",
      "metadata": {
        "id": "a9b9b064"
      },
      "source": [
        "### Linear regression"
      ]
    },
    {
      "cell_type": "code",
      "execution_count": 152,
      "id": "62d1c597",
      "metadata": {
        "colab": {
          "base_uri": "https://localhost:8080/"
        },
        "id": "62d1c597",
        "outputId": "de9ab913-c27d-478c-9074-a30eea6f3fec"
      },
      "outputs": [],
      "source": [
        "# step1 = ColumnTransformer(transformers=[\n",
        "#     ('col_tnf',OneHotEncoder(sparse_output=False,drop='first', handle_unknown = 'ignore'),[0,1,4,7,9])\n",
        "# ],remainder='passthrough')\n",
        "\n",
        "# step2 = LinearRegression()\n",
        "\n",
        "# pipe = Pipeline([\n",
        "#     ('step1',step1),\n",
        "#     ('step2',step2)\n",
        "# ])\n",
        "\n",
        "# pipe.fit(X_train,y_train)\n",
        "\n",
        "# y_pred = pipe.predict(X_test)\n",
        "\n",
        "# print('R2 score',r2_score(y_test,y_pred))\n",
        "# print('MAE',mean_absolute_error(y_test,y_pred))"
      ]
    },
    {
      "cell_type": "markdown",
      "id": "a2792084",
      "metadata": {
        "id": "a2792084"
      },
      "source": [
        "### Ridge Regression"
      ]
    },
    {
      "cell_type": "code",
      "execution_count": 153,
      "id": "b0636174",
      "metadata": {
        "colab": {
          "base_uri": "https://localhost:8080/"
        },
        "id": "b0636174",
        "outputId": "335d1096-a647-41e8-cdb0-b5d3cc5cb1f4"
      },
      "outputs": [],
      "source": [
        "# step1 = ColumnTransformer(transformers=[\n",
        "#     ('col_tnf',OneHotEncoder(sparse_output=False,drop='first', handle_unknown = 'ignore'),[0,1,4,7,9])\n",
        "# ],remainder='passthrough')\n",
        "\n",
        "# step2 = Ridge(alpha=10)\n",
        "\n",
        "# pipe = Pipeline([\n",
        "#     ('step1',step1),\n",
        "#     ('step2',step2)\n",
        "# ])\n",
        "\n",
        "# pipe.fit(X_train,y_train)\n",
        "\n",
        "# y_pred = pipe.predict(X_test)\n",
        "\n",
        "# print('R2 score',r2_score(y_test,y_pred))\n",
        "# print('MAE',mean_absolute_error(y_test,y_pred))"
      ]
    },
    {
      "cell_type": "markdown",
      "id": "f962da33",
      "metadata": {
        "id": "f962da33"
      },
      "source": [
        "### Lasso Regression"
      ]
    },
    {
      "cell_type": "code",
      "execution_count": 154,
      "id": "7569a253",
      "metadata": {
        "colab": {
          "base_uri": "https://localhost:8080/"
        },
        "id": "7569a253",
        "outputId": "e014cffa-6289-465d-a054-da2c20e82825"
      },
      "outputs": [],
      "source": [
        "# step1 = ColumnTransformer(transformers=[\n",
        "#     ('col_tnf',OneHotEncoder(sparse_output=False,drop='first', handle_unknown = 'ignore'),[0,1,4,7,9])\n",
        "# ],remainder='passthrough')\n",
        "\n",
        "# step2 = Lasso(alpha=0.001)\n",
        "\n",
        "# pipe = Pipeline([\n",
        "#     ('step1',step1),\n",
        "#     ('step2',step2)\n",
        "# ])\n",
        "\n",
        "# pipe.fit(X_train,y_train)\n",
        "\n",
        "# y_pred = pipe.predict(X_test)\n",
        "\n",
        "# print('R2 score',r2_score(y_test,y_pred))\n",
        "# print('MAE',mean_absolute_error(y_test,y_pred))"
      ]
    },
    {
      "cell_type": "markdown",
      "id": "ecd73f96",
      "metadata": {
        "id": "ecd73f96"
      },
      "source": [
        "### KNN"
      ]
    },
    {
      "cell_type": "code",
      "execution_count": 155,
      "id": "387fb985",
      "metadata": {
        "colab": {
          "base_uri": "https://localhost:8080/"
        },
        "id": "387fb985",
        "outputId": "b2a8048a-7640-440b-d193-7f0d33696d6c"
      },
      "outputs": [],
      "source": [
        "# step1 = ColumnTransformer(transformers=[\n",
        "#     ('col_tnf',OneHotEncoder(sparse_output=False,drop='first', handle_unknown = 'ignore'),[0,1,4,7,9])\n",
        "# ],remainder='passthrough')\n",
        "\n",
        "# step2 = KNeighborsRegressor(n_neighbors=3)\n",
        "\n",
        "# pipe = Pipeline([\n",
        "#     ('step1',step1),\n",
        "#     ('step2',step2)\n",
        "# ])\n",
        "\n",
        "# pipe.fit(X_train,y_train)\n",
        "\n",
        "# y_pred = pipe.predict(X_test)\n",
        "\n",
        "# print('R2 score',r2_score(y_test,y_pred))\n",
        "# print('MAE',mean_absolute_error(y_test,y_pred))"
      ]
    },
    {
      "cell_type": "markdown",
      "id": "5401e577",
      "metadata": {
        "id": "5401e577"
      },
      "source": [
        "### Decision Tree"
      ]
    },
    {
      "cell_type": "code",
      "execution_count": 156,
      "id": "767f57d9",
      "metadata": {
        "colab": {
          "base_uri": "https://localhost:8080/"
        },
        "id": "767f57d9",
        "outputId": "0c2bf94a-e44d-4cfc-c8db-0bbb0d38aed3"
      },
      "outputs": [],
      "source": [
        "# step1 = ColumnTransformer(transformers=[\n",
        "#     ('col_tnf',OneHotEncoder(sparse_output=False,drop='first', handle_unknown = 'ignore'),[0,1,4,7,9])\n",
        "# ],remainder='passthrough')\n",
        "\n",
        "# step2 = DecisionTreeRegressor(max_depth=8)\n",
        "\n",
        "# pipe = Pipeline([\n",
        "#     ('step1',step1),\n",
        "#     ('step2',step2)\n",
        "# ])\n",
        "\n",
        "# pipe.fit(X_train,y_train)\n",
        "\n",
        "# y_pred = pipe.predict(X_test)\n",
        "\n",
        "# print('R2 score',r2_score(y_test,y_pred))\n",
        "# print('MAE',mean_absolute_error(y_test,y_pred))"
      ]
    },
    {
      "cell_type": "markdown",
      "id": "68197776",
      "metadata": {
        "id": "68197776"
      },
      "source": [
        "### SVM"
      ]
    },
    {
      "cell_type": "code",
      "execution_count": 157,
      "id": "da16c784",
      "metadata": {
        "colab": {
          "base_uri": "https://localhost:8080/"
        },
        "id": "da16c784",
        "outputId": "f46d6e8f-8a18-4ae0-ff04-e990ce98267b"
      },
      "outputs": [],
      "source": [
        "# step1 = ColumnTransformer(transformers=[\n",
        "#     ('col_tnf',OneHotEncoder(sparse_output=False,drop='first', handle_unknown = 'ignore'),[0,1,4,7,9])\n",
        "# ],remainder='passthrough')\n",
        "\n",
        "# step2 = SVR(kernel='rbf',C=10000,epsilon=0.1)\n",
        "\n",
        "# pipe = Pipeline([\n",
        "#     ('step1',step1),\n",
        "#     ('step2',step2)\n",
        "# ])\n",
        "\n",
        "# pipe.fit(X_train,y_train)\n",
        "\n",
        "# y_pred = pipe.predict(X_test)\n",
        "\n",
        "# print('R2 score',r2_score(y_test,y_pred))\n",
        "# print('MAE',mean_absolute_error(y_test,y_pred))"
      ]
    },
    {
      "cell_type": "markdown",
      "id": "896ba19b",
      "metadata": {
        "id": "896ba19b"
      },
      "source": [
        "### Random Forest"
      ]
    },
    {
      "cell_type": "code",
      "execution_count": 158,
      "id": "18175591",
      "metadata": {
        "colab": {
          "base_uri": "https://localhost:8080/"
        },
        "id": "18175591",
        "outputId": "35b37614-1e73-4f91-ed38-1b1ccda678aa"
      },
      "outputs": [],
      "source": [
        "# step1 = ColumnTransformer(transformers=[\n",
        "#     ('col_tnf',OneHotEncoder(sparse_output=False,drop='first', handle_unknown = 'ignore'),[0,1,4,7,9])\n",
        "# ],remainder='passthrough')\n",
        "\n",
        "# step2 = RandomForestRegressor(n_estimators=100,\n",
        "#                               random_state=3,\n",
        "#                               max_samples=0.5,\n",
        "#                               max_features=0.75,\n",
        "#                               max_depth=15)\n",
        "\n",
        "# pipe = Pipeline([\n",
        "#     ('step1',step1),\n",
        "#     ('step2',step2)\n",
        "# ])\n",
        "\n",
        "# pipe.fit(X_train,y_train)\n",
        "\n",
        "# y_pred = pipe.predict(X_test)\n",
        "\n",
        "# print('R2 score',r2_score(y_test,y_pred))\n",
        "# print('MAE',mean_absolute_error(y_test,y_pred))"
      ]
    },
    {
      "cell_type": "code",
      "execution_count": 159,
      "id": "98da57d9",
      "metadata": {},
      "outputs": [
        {
          "data": {
            "text/html": [
              "<div>\n",
              "<style scoped>\n",
              "    .dataframe tbody tr th:only-of-type {\n",
              "        vertical-align: middle;\n",
              "    }\n",
              "\n",
              "    .dataframe tbody tr th {\n",
              "        vertical-align: top;\n",
              "    }\n",
              "\n",
              "    .dataframe thead th {\n",
              "        text-align: right;\n",
              "    }\n",
              "</style>\n",
              "<table border=\"1\" class=\"dataframe\">\n",
              "  <thead>\n",
              "    <tr style=\"text-align: right;\">\n",
              "      <th></th>\n",
              "      <th>brand</th>\n",
              "      <th>gpu_type</th>\n",
              "      <th>Vram</th>\n",
              "      <th>ram_memory</th>\n",
              "      <th>primary_storage_type</th>\n",
              "      <th>primary_storage_capacity</th>\n",
              "      <th>is_touch_screen</th>\n",
              "      <th>OS</th>\n",
              "      <th>ppi</th>\n",
              "      <th>cpu</th>\n",
              "    </tr>\n",
              "  </thead>\n",
              "  <tbody>\n",
              "    <tr>\n",
              "      <th>513</th>\n",
              "      <td>hp</td>\n",
              "      <td>dedicated</td>\n",
              "      <td>8</td>\n",
              "      <td>32</td>\n",
              "      <td>True</td>\n",
              "      <td>1024</td>\n",
              "      <td>False</td>\n",
              "      <td>windows</td>\n",
              "      <td>182.435376</td>\n",
              "      <td>amd ryzen 9</td>\n",
              "    </tr>\n",
              "    <tr>\n",
              "      <th>192</th>\n",
              "      <td>jio</td>\n",
              "      <td>integrated</td>\n",
              "      <td>0</td>\n",
              "      <td>4</td>\n",
              "      <td>False</td>\n",
              "      <td>64</td>\n",
              "      <td>False</td>\n",
              "      <td>other</td>\n",
              "      <td>135.094211</td>\n",
              "      <td>other other</td>\n",
              "    </tr>\n",
              "    <tr>\n",
              "      <th>284</th>\n",
              "      <td>dell</td>\n",
              "      <td>integrated</td>\n",
              "      <td>0</td>\n",
              "      <td>8</td>\n",
              "      <td>False</td>\n",
              "      <td>1024</td>\n",
              "      <td>False</td>\n",
              "      <td>windows</td>\n",
              "      <td>141.211998</td>\n",
              "      <td>intel core i5</td>\n",
              "    </tr>\n",
              "    <tr>\n",
              "      <th>937</th>\n",
              "      <td>msi</td>\n",
              "      <td>integrated</td>\n",
              "      <td>0</td>\n",
              "      <td>8</td>\n",
              "      <td>True</td>\n",
              "      <td>512</td>\n",
              "      <td>False</td>\n",
              "      <td>windows</td>\n",
              "      <td>141.211998</td>\n",
              "      <td>amd ryzen 5</td>\n",
              "    </tr>\n",
              "    <tr>\n",
              "      <th>288</th>\n",
              "      <td>chuwi</td>\n",
              "      <td>integrated</td>\n",
              "      <td>0</td>\n",
              "      <td>8</td>\n",
              "      <td>True</td>\n",
              "      <td>256</td>\n",
              "      <td>False</td>\n",
              "      <td>windows</td>\n",
              "      <td>156.234551</td>\n",
              "      <td>intel other</td>\n",
              "    </tr>\n",
              "    <tr>\n",
              "      <th>...</th>\n",
              "      <td>...</td>\n",
              "      <td>...</td>\n",
              "      <td>...</td>\n",
              "      <td>...</td>\n",
              "      <td>...</td>\n",
              "      <td>...</td>\n",
              "      <td>...</td>\n",
              "      <td>...</td>\n",
              "      <td>...</td>\n",
              "      <td>...</td>\n",
              "    </tr>\n",
              "    <tr>\n",
              "      <th>534</th>\n",
              "      <td>lenovo</td>\n",
              "      <td>integrated</td>\n",
              "      <td>0</td>\n",
              "      <td>16</td>\n",
              "      <td>True</td>\n",
              "      <td>512</td>\n",
              "      <td>False</td>\n",
              "      <td>windows</td>\n",
              "      <td>137.681698</td>\n",
              "      <td>intel core i7</td>\n",
              "    </tr>\n",
              "    <tr>\n",
              "      <th>584</th>\n",
              "      <td>lenovo</td>\n",
              "      <td>dedicated</td>\n",
              "      <td>6</td>\n",
              "      <td>16</td>\n",
              "      <td>True</td>\n",
              "      <td>512</td>\n",
              "      <td>False</td>\n",
              "      <td>windows</td>\n",
              "      <td>141.211998</td>\n",
              "      <td>amd ryzen 7</td>\n",
              "    </tr>\n",
              "    <tr>\n",
              "      <th>493</th>\n",
              "      <td>lenovo</td>\n",
              "      <td>integrated</td>\n",
              "      <td>0</td>\n",
              "      <td>16</td>\n",
              "      <td>True</td>\n",
              "      <td>512</td>\n",
              "      <td>False</td>\n",
              "      <td>windows</td>\n",
              "      <td>141.509717</td>\n",
              "      <td>intel core i5</td>\n",
              "    </tr>\n",
              "    <tr>\n",
              "      <th>527</th>\n",
              "      <td>lenovo</td>\n",
              "      <td>integrated</td>\n",
              "      <td>0</td>\n",
              "      <td>16</td>\n",
              "      <td>True</td>\n",
              "      <td>512</td>\n",
              "      <td>False</td>\n",
              "      <td>windows</td>\n",
              "      <td>141.509717</td>\n",
              "      <td>intel core i5</td>\n",
              "    </tr>\n",
              "    <tr>\n",
              "      <th>168</th>\n",
              "      <td>asus</td>\n",
              "      <td>integrated</td>\n",
              "      <td>0</td>\n",
              "      <td>16</td>\n",
              "      <td>True</td>\n",
              "      <td>512</td>\n",
              "      <td>True</td>\n",
              "      <td>windows</td>\n",
              "      <td>323.450782</td>\n",
              "      <td>intel core i5</td>\n",
              "    </tr>\n",
              "  </tbody>\n",
              "</table>\n",
              "<p>842 rows × 10 columns</p>\n",
              "</div>"
            ],
            "text/plain": [
              "      brand    gpu_type  Vram  ram_memory  primary_storage_type  \\\n",
              "513      hp   dedicated     8          32                  True   \n",
              "192     jio  integrated     0           4                 False   \n",
              "284    dell  integrated     0           8                 False   \n",
              "937     msi  integrated     0           8                  True   \n",
              "288   chuwi  integrated     0           8                  True   \n",
              "..      ...         ...   ...         ...                   ...   \n",
              "534  lenovo  integrated     0          16                  True   \n",
              "584  lenovo   dedicated     6          16                  True   \n",
              "493  lenovo  integrated     0          16                  True   \n",
              "527  lenovo  integrated     0          16                  True   \n",
              "168    asus  integrated     0          16                  True   \n",
              "\n",
              "     primary_storage_capacity  is_touch_screen       OS         ppi  \\\n",
              "513                      1024            False  windows  182.435376   \n",
              "192                        64            False    other  135.094211   \n",
              "284                      1024            False  windows  141.211998   \n",
              "937                       512            False  windows  141.211998   \n",
              "288                       256            False  windows  156.234551   \n",
              "..                        ...              ...      ...         ...   \n",
              "534                       512            False  windows  137.681698   \n",
              "584                       512            False  windows  141.211998   \n",
              "493                       512            False  windows  141.509717   \n",
              "527                       512            False  windows  141.509717   \n",
              "168                       512             True  windows  323.450782   \n",
              "\n",
              "               cpu  \n",
              "513    amd ryzen 9  \n",
              "192    other other  \n",
              "284  intel core i5  \n",
              "937    amd ryzen 5  \n",
              "288    intel other  \n",
              "..             ...  \n",
              "534  intel core i7  \n",
              "584    amd ryzen 7  \n",
              "493  intel core i5  \n",
              "527  intel core i5  \n",
              "168  intel core i5  \n",
              "\n",
              "[842 rows x 10 columns]"
            ]
          },
          "execution_count": 159,
          "metadata": {},
          "output_type": "execute_result"
        }
      ],
      "source": [
        "X_train"
      ]
    },
    {
      "cell_type": "markdown",
      "id": "5803b293",
      "metadata": {
        "id": "5803b293"
      },
      "source": [
        "### Gradient Boost"
      ]
    },
    {
      "cell_type": "code",
      "execution_count": 160,
      "id": "c1c75c73",
      "metadata": {
        "colab": {
          "base_uri": "https://localhost:8080/"
        },
        "id": "c1c75c73",
        "outputId": "729b0cbf-1807-48fe-c0e1-20501feb22cd"
      },
      "outputs": [
        {
          "name": "stdout",
          "output_type": "stream",
          "text": [
            "R2 score 0.9257369240541742\n",
            "MAE 0.11953523761988072\n"
          ]
        },
        {
          "name": "stderr",
          "output_type": "stream",
          "text": [
            "c:\\Users\\prave\\AppData\\Local\\Programs\\Python\\Python312\\Lib\\site-packages\\sklearn\\preprocessing\\_encoders.py:241: UserWarning: Found unknown categories in columns [0, 3] during transform. These unknown categories will be encoded as all zeros\n",
            "  warnings.warn(\n"
          ]
        }
      ],
      "source": [
        "step1 = ColumnTransformer(transformers=[\n",
        "    ('col_tnf',OneHotEncoder(sparse_output=False,drop='first', handle_unknown = 'ignore'),[0,1,4,7,9])\n",
        "],remainder='passthrough')\n",
        "\n",
        "step2 = GradientBoostingRegressor(n_estimators=500)\n",
        "\n",
        "pipe = Pipeline([\n",
        "    ('step1',step1),\n",
        "    ('step2',step2)\n",
        "])\n",
        "\n",
        "pipe.fit(X_train,y_train)\n",
        "\n",
        "# print(X_t)\n",
        "\n",
        "y_pred = pipe.predict(X_test)\n",
        "\n",
        "print('R2 score',r2_score(y_test,y_pred))\n",
        "print('MAE',mean_absolute_error(y_test,y_pred))"
      ]
    },
    {
      "cell_type": "markdown",
      "id": "90e671f3",
      "metadata": {
        "id": "90e671f3"
      },
      "source": [
        "### XgBoost"
      ]
    },
    {
      "cell_type": "code",
      "execution_count": 161,
      "id": "a957c398",
      "metadata": {
        "colab": {
          "base_uri": "https://localhost:8080/"
        },
        "id": "a957c398",
        "outputId": "8103557e-3af5-455c-cfe9-1cbf13715143"
      },
      "outputs": [],
      "source": [
        "# step1 = ColumnTransformer(transformers=[\n",
        "#     ('col_tnf',OneHotEncoder(sparse_output=False,drop='first', handle_unknown = 'ignore'),[0,1,4,7,9])\n",
        "# ],remainder='passthrough')\n",
        "\n",
        "# step2 = XGBRegressor(n_estimators=45,max_depth=5,learning_rate=0.5)\n",
        "\n",
        "# pipe = Pipeline([\n",
        "#     ('step1',step1),\n",
        "#     ('step2',step2)\n",
        "# ])\n",
        "\n",
        "# pipe.fit(X_train,y_train)\n",
        "\n",
        "# y_pred = pipe.predict(X_test)\n",
        "\n",
        "# print('R2 score',r2_score(y_test,y_pred))\n",
        "# print('MAE',mean_absolute_error(y_test,y_pred))"
      ]
    },
    {
      "cell_type": "markdown",
      "id": "d4e6d7be",
      "metadata": {
        "id": "d4e6d7be"
      },
      "source": [
        "### Exporting the Model"
      ]
    },
    {
      "cell_type": "code",
      "execution_count": 162,
      "id": "d35eb7b6",
      "metadata": {
        "id": "d35eb7b6"
      },
      "outputs": [],
      "source": [
        "import pickle\n",
        "\n",
        "pickle.dump(df,open('df.pkl','wb'))\n",
        "pickle.dump(pipe,open('pipe.pkl','wb'))"
      ]
    },
    {
      "cell_type": "code",
      "execution_count": 163,
      "id": "2bd94cb7",
      "metadata": {
        "colab": {
          "base_uri": "https://localhost:8080/",
          "height": 423
        },
        "id": "2bd94cb7",
        "outputId": "cf64dc65-7ced-4992-a6b1-b55b1af551b6"
      },
      "outputs": [
        {
          "data": {
            "text/html": [
              "<div>\n",
              "<style scoped>\n",
              "    .dataframe tbody tr th:only-of-type {\n",
              "        vertical-align: middle;\n",
              "    }\n",
              "\n",
              "    .dataframe tbody tr th {\n",
              "        vertical-align: top;\n",
              "    }\n",
              "\n",
              "    .dataframe thead th {\n",
              "        text-align: right;\n",
              "    }\n",
              "</style>\n",
              "<table border=\"1\" class=\"dataframe\">\n",
              "  <thead>\n",
              "    <tr style=\"text-align: right;\">\n",
              "      <th></th>\n",
              "      <th>brand</th>\n",
              "      <th>gpu_type</th>\n",
              "      <th>Vram</th>\n",
              "      <th>ram_memory</th>\n",
              "      <th>primary_storage_type</th>\n",
              "      <th>primary_storage_capacity</th>\n",
              "      <th>is_touch_screen</th>\n",
              "      <th>OS</th>\n",
              "      <th>Price</th>\n",
              "      <th>ppi</th>\n",
              "      <th>cpu</th>\n",
              "    </tr>\n",
              "  </thead>\n",
              "  <tbody>\n",
              "    <tr>\n",
              "      <th>0</th>\n",
              "      <td>tecno</td>\n",
              "      <td>integrated</td>\n",
              "      <td>0</td>\n",
              "      <td>8</td>\n",
              "      <td>True</td>\n",
              "      <td>512</td>\n",
              "      <td>False</td>\n",
              "      <td>windows</td>\n",
              "      <td>23990</td>\n",
              "      <td>141.211998</td>\n",
              "      <td>intel core i3</td>\n",
              "    </tr>\n",
              "    <tr>\n",
              "      <th>1</th>\n",
              "      <td>tecno</td>\n",
              "      <td>integrated</td>\n",
              "      <td>0</td>\n",
              "      <td>16</td>\n",
              "      <td>True</td>\n",
              "      <td>1024</td>\n",
              "      <td>False</td>\n",
              "      <td>windows</td>\n",
              "      <td>35990</td>\n",
              "      <td>141.211998</td>\n",
              "      <td>intel core i7</td>\n",
              "    </tr>\n",
              "    <tr>\n",
              "      <th>2</th>\n",
              "      <td>hp</td>\n",
              "      <td>dedicated</td>\n",
              "      <td>4</td>\n",
              "      <td>8</td>\n",
              "      <td>True</td>\n",
              "      <td>512</td>\n",
              "      <td>False</td>\n",
              "      <td>windows</td>\n",
              "      <td>51100</td>\n",
              "      <td>141.211998</td>\n",
              "      <td>amd ryzen 5</td>\n",
              "    </tr>\n",
              "    <tr>\n",
              "      <th>3</th>\n",
              "      <td>acer</td>\n",
              "      <td>integrated</td>\n",
              "      <td>0</td>\n",
              "      <td>8</td>\n",
              "      <td>True</td>\n",
              "      <td>512</td>\n",
              "      <td>False</td>\n",
              "      <td>windows</td>\n",
              "      <td>39990</td>\n",
              "      <td>157.350512</td>\n",
              "      <td>intel core i5</td>\n",
              "    </tr>\n",
              "    <tr>\n",
              "      <th>4</th>\n",
              "      <td>lenovo</td>\n",
              "      <td>integrated</td>\n",
              "      <td>0</td>\n",
              "      <td>8</td>\n",
              "      <td>True</td>\n",
              "      <td>512</td>\n",
              "      <td>False</td>\n",
              "      <td>windows</td>\n",
              "      <td>28580</td>\n",
              "      <td>141.211998</td>\n",
              "      <td>amd ryzen 3</td>\n",
              "    </tr>\n",
              "    <tr>\n",
              "      <th>...</th>\n",
              "      <td>...</td>\n",
              "      <td>...</td>\n",
              "      <td>...</td>\n",
              "      <td>...</td>\n",
              "      <td>...</td>\n",
              "      <td>...</td>\n",
              "      <td>...</td>\n",
              "      <td>...</td>\n",
              "      <td>...</td>\n",
              "      <td>...</td>\n",
              "      <td>...</td>\n",
              "    </tr>\n",
              "    <tr>\n",
              "      <th>986</th>\n",
              "      <td>asus</td>\n",
              "      <td>dedicated</td>\n",
              "      <td>4</td>\n",
              "      <td>16</td>\n",
              "      <td>True</td>\n",
              "      <td>512</td>\n",
              "      <td>False</td>\n",
              "      <td>windows</td>\n",
              "      <td>65990</td>\n",
              "      <td>141.211998</td>\n",
              "      <td>amd ryzen 5</td>\n",
              "    </tr>\n",
              "    <tr>\n",
              "      <th>987</th>\n",
              "      <td>msi</td>\n",
              "      <td>dedicated</td>\n",
              "      <td>6</td>\n",
              "      <td>16</td>\n",
              "      <td>True</td>\n",
              "      <td>512</td>\n",
              "      <td>False</td>\n",
              "      <td>windows</td>\n",
              "      <td>91990</td>\n",
              "      <td>141.211998</td>\n",
              "      <td>intel core i7</td>\n",
              "    </tr>\n",
              "    <tr>\n",
              "      <th>988</th>\n",
              "      <td>asus</td>\n",
              "      <td>integrated</td>\n",
              "      <td>0</td>\n",
              "      <td>8</td>\n",
              "      <td>True</td>\n",
              "      <td>512</td>\n",
              "      <td>False</td>\n",
              "      <td>windows</td>\n",
              "      <td>44990</td>\n",
              "      <td>141.211998</td>\n",
              "      <td>amd ryzen 5</td>\n",
              "    </tr>\n",
              "    <tr>\n",
              "      <th>989</th>\n",
              "      <td>asus</td>\n",
              "      <td>integrated</td>\n",
              "      <td>0</td>\n",
              "      <td>16</td>\n",
              "      <td>True</td>\n",
              "      <td>512</td>\n",
              "      <td>False</td>\n",
              "      <td>windows</td>\n",
              "      <td>67990</td>\n",
              "      <td>215.633854</td>\n",
              "      <td>amd ryzen 5</td>\n",
              "    </tr>\n",
              "    <tr>\n",
              "      <th>990</th>\n",
              "      <td>hp</td>\n",
              "      <td>integrated</td>\n",
              "      <td>0</td>\n",
              "      <td>4</td>\n",
              "      <td>False</td>\n",
              "      <td>128</td>\n",
              "      <td>False</td>\n",
              "      <td>chrome</td>\n",
              "      <td>20990</td>\n",
              "      <td>100.454670</td>\n",
              "      <td>intel celeron</td>\n",
              "    </tr>\n",
              "  </tbody>\n",
              "</table>\n",
              "<p>991 rows × 11 columns</p>\n",
              "</div>"
            ],
            "text/plain": [
              "      brand    gpu_type  Vram  ram_memory  primary_storage_type  \\\n",
              "0     tecno  integrated     0           8                  True   \n",
              "1     tecno  integrated     0          16                  True   \n",
              "2        hp   dedicated     4           8                  True   \n",
              "3      acer  integrated     0           8                  True   \n",
              "4    lenovo  integrated     0           8                  True   \n",
              "..      ...         ...   ...         ...                   ...   \n",
              "986    asus   dedicated     4          16                  True   \n",
              "987     msi   dedicated     6          16                  True   \n",
              "988    asus  integrated     0           8                  True   \n",
              "989    asus  integrated     0          16                  True   \n",
              "990      hp  integrated     0           4                 False   \n",
              "\n",
              "     primary_storage_capacity  is_touch_screen       OS  Price         ppi  \\\n",
              "0                         512            False  windows  23990  141.211998   \n",
              "1                        1024            False  windows  35990  141.211998   \n",
              "2                         512            False  windows  51100  141.211998   \n",
              "3                         512            False  windows  39990  157.350512   \n",
              "4                         512            False  windows  28580  141.211998   \n",
              "..                        ...              ...      ...    ...         ...   \n",
              "986                       512            False  windows  65990  141.211998   \n",
              "987                       512            False  windows  91990  141.211998   \n",
              "988                       512            False  windows  44990  141.211998   \n",
              "989                       512            False  windows  67990  215.633854   \n",
              "990                       128            False   chrome  20990  100.454670   \n",
              "\n",
              "               cpu  \n",
              "0    intel core i3  \n",
              "1    intel core i7  \n",
              "2      amd ryzen 5  \n",
              "3    intel core i5  \n",
              "4      amd ryzen 3  \n",
              "..             ...  \n",
              "986    amd ryzen 5  \n",
              "987  intel core i7  \n",
              "988    amd ryzen 5  \n",
              "989    amd ryzen 5  \n",
              "990  intel celeron  \n",
              "\n",
              "[991 rows x 11 columns]"
            ]
          },
          "execution_count": 163,
          "metadata": {},
          "output_type": "execute_result"
        }
      ],
      "source": [
        "df"
      ]
    },
    {
      "cell_type": "code",
      "execution_count": 164,
      "id": "64618e65",
      "metadata": {
        "colab": {
          "base_uri": "https://localhost:8080/",
          "height": 423
        },
        "id": "64618e65",
        "outputId": "28b5bc8e-c73d-497c-8939-ef6804620f2d"
      },
      "outputs": [
        {
          "data": {
            "text/html": [
              "<div>\n",
              "<style scoped>\n",
              "    .dataframe tbody tr th:only-of-type {\n",
              "        vertical-align: middle;\n",
              "    }\n",
              "\n",
              "    .dataframe tbody tr th {\n",
              "        vertical-align: top;\n",
              "    }\n",
              "\n",
              "    .dataframe thead th {\n",
              "        text-align: right;\n",
              "    }\n",
              "</style>\n",
              "<table border=\"1\" class=\"dataframe\">\n",
              "  <thead>\n",
              "    <tr style=\"text-align: right;\">\n",
              "      <th></th>\n",
              "      <th>brand</th>\n",
              "      <th>gpu_type</th>\n",
              "      <th>Vram</th>\n",
              "      <th>ram_memory</th>\n",
              "      <th>primary_storage_type</th>\n",
              "      <th>primary_storage_capacity</th>\n",
              "      <th>is_touch_screen</th>\n",
              "      <th>OS</th>\n",
              "      <th>ppi</th>\n",
              "      <th>cpu</th>\n",
              "    </tr>\n",
              "  </thead>\n",
              "  <tbody>\n",
              "    <tr>\n",
              "      <th>513</th>\n",
              "      <td>hp</td>\n",
              "      <td>dedicated</td>\n",
              "      <td>8</td>\n",
              "      <td>32</td>\n",
              "      <td>True</td>\n",
              "      <td>1024</td>\n",
              "      <td>False</td>\n",
              "      <td>windows</td>\n",
              "      <td>182.435376</td>\n",
              "      <td>amd ryzen 9</td>\n",
              "    </tr>\n",
              "    <tr>\n",
              "      <th>192</th>\n",
              "      <td>jio</td>\n",
              "      <td>integrated</td>\n",
              "      <td>0</td>\n",
              "      <td>4</td>\n",
              "      <td>False</td>\n",
              "      <td>64</td>\n",
              "      <td>False</td>\n",
              "      <td>other</td>\n",
              "      <td>135.094211</td>\n",
              "      <td>other other</td>\n",
              "    </tr>\n",
              "    <tr>\n",
              "      <th>284</th>\n",
              "      <td>dell</td>\n",
              "      <td>integrated</td>\n",
              "      <td>0</td>\n",
              "      <td>8</td>\n",
              "      <td>False</td>\n",
              "      <td>1024</td>\n",
              "      <td>False</td>\n",
              "      <td>windows</td>\n",
              "      <td>141.211998</td>\n",
              "      <td>intel core i5</td>\n",
              "    </tr>\n",
              "    <tr>\n",
              "      <th>937</th>\n",
              "      <td>msi</td>\n",
              "      <td>integrated</td>\n",
              "      <td>0</td>\n",
              "      <td>8</td>\n",
              "      <td>True</td>\n",
              "      <td>512</td>\n",
              "      <td>False</td>\n",
              "      <td>windows</td>\n",
              "      <td>141.211998</td>\n",
              "      <td>amd ryzen 5</td>\n",
              "    </tr>\n",
              "    <tr>\n",
              "      <th>288</th>\n",
              "      <td>chuwi</td>\n",
              "      <td>integrated</td>\n",
              "      <td>0</td>\n",
              "      <td>8</td>\n",
              "      <td>True</td>\n",
              "      <td>256</td>\n",
              "      <td>False</td>\n",
              "      <td>windows</td>\n",
              "      <td>156.234551</td>\n",
              "      <td>intel other</td>\n",
              "    </tr>\n",
              "    <tr>\n",
              "      <th>...</th>\n",
              "      <td>...</td>\n",
              "      <td>...</td>\n",
              "      <td>...</td>\n",
              "      <td>...</td>\n",
              "      <td>...</td>\n",
              "      <td>...</td>\n",
              "      <td>...</td>\n",
              "      <td>...</td>\n",
              "      <td>...</td>\n",
              "      <td>...</td>\n",
              "    </tr>\n",
              "    <tr>\n",
              "      <th>534</th>\n",
              "      <td>lenovo</td>\n",
              "      <td>integrated</td>\n",
              "      <td>0</td>\n",
              "      <td>16</td>\n",
              "      <td>True</td>\n",
              "      <td>512</td>\n",
              "      <td>False</td>\n",
              "      <td>windows</td>\n",
              "      <td>137.681698</td>\n",
              "      <td>intel core i7</td>\n",
              "    </tr>\n",
              "    <tr>\n",
              "      <th>584</th>\n",
              "      <td>lenovo</td>\n",
              "      <td>dedicated</td>\n",
              "      <td>6</td>\n",
              "      <td>16</td>\n",
              "      <td>True</td>\n",
              "      <td>512</td>\n",
              "      <td>False</td>\n",
              "      <td>windows</td>\n",
              "      <td>141.211998</td>\n",
              "      <td>amd ryzen 7</td>\n",
              "    </tr>\n",
              "    <tr>\n",
              "      <th>493</th>\n",
              "      <td>lenovo</td>\n",
              "      <td>integrated</td>\n",
              "      <td>0</td>\n",
              "      <td>16</td>\n",
              "      <td>True</td>\n",
              "      <td>512</td>\n",
              "      <td>False</td>\n",
              "      <td>windows</td>\n",
              "      <td>141.509717</td>\n",
              "      <td>intel core i5</td>\n",
              "    </tr>\n",
              "    <tr>\n",
              "      <th>527</th>\n",
              "      <td>lenovo</td>\n",
              "      <td>integrated</td>\n",
              "      <td>0</td>\n",
              "      <td>16</td>\n",
              "      <td>True</td>\n",
              "      <td>512</td>\n",
              "      <td>False</td>\n",
              "      <td>windows</td>\n",
              "      <td>141.509717</td>\n",
              "      <td>intel core i5</td>\n",
              "    </tr>\n",
              "    <tr>\n",
              "      <th>168</th>\n",
              "      <td>asus</td>\n",
              "      <td>integrated</td>\n",
              "      <td>0</td>\n",
              "      <td>16</td>\n",
              "      <td>True</td>\n",
              "      <td>512</td>\n",
              "      <td>True</td>\n",
              "      <td>windows</td>\n",
              "      <td>323.450782</td>\n",
              "      <td>intel core i5</td>\n",
              "    </tr>\n",
              "  </tbody>\n",
              "</table>\n",
              "<p>842 rows × 10 columns</p>\n",
              "</div>"
            ],
            "text/plain": [
              "      brand    gpu_type  Vram  ram_memory  primary_storage_type  \\\n",
              "513      hp   dedicated     8          32                  True   \n",
              "192     jio  integrated     0           4                 False   \n",
              "284    dell  integrated     0           8                 False   \n",
              "937     msi  integrated     0           8                  True   \n",
              "288   chuwi  integrated     0           8                  True   \n",
              "..      ...         ...   ...         ...                   ...   \n",
              "534  lenovo  integrated     0          16                  True   \n",
              "584  lenovo   dedicated     6          16                  True   \n",
              "493  lenovo  integrated     0          16                  True   \n",
              "527  lenovo  integrated     0          16                  True   \n",
              "168    asus  integrated     0          16                  True   \n",
              "\n",
              "     primary_storage_capacity  is_touch_screen       OS         ppi  \\\n",
              "513                      1024            False  windows  182.435376   \n",
              "192                        64            False    other  135.094211   \n",
              "284                      1024            False  windows  141.211998   \n",
              "937                       512            False  windows  141.211998   \n",
              "288                       256            False  windows  156.234551   \n",
              "..                        ...              ...      ...         ...   \n",
              "534                       512            False  windows  137.681698   \n",
              "584                       512            False  windows  141.211998   \n",
              "493                       512            False  windows  141.509717   \n",
              "527                       512            False  windows  141.509717   \n",
              "168                       512             True  windows  323.450782   \n",
              "\n",
              "               cpu  \n",
              "513    amd ryzen 9  \n",
              "192    other other  \n",
              "284  intel core i5  \n",
              "937    amd ryzen 5  \n",
              "288    intel other  \n",
              "..             ...  \n",
              "534  intel core i7  \n",
              "584    amd ryzen 7  \n",
              "493  intel core i5  \n",
              "527  intel core i5  \n",
              "168  intel core i5  \n",
              "\n",
              "[842 rows x 10 columns]"
            ]
          },
          "execution_count": 164,
          "metadata": {},
          "output_type": "execute_result"
        }
      ],
      "source": [
        "X_train"
      ]
    },
    {
      "cell_type": "code",
      "execution_count": 165,
      "id": "55367c9e",
      "metadata": {
        "id": "55367c9e"
      },
      "outputs": [
        {
          "name": "stdout",
          "output_type": "stream",
          "text": [
            "[11.43278206]\n"
          ]
        },
        {
          "name": "stderr",
          "output_type": "stream",
          "text": [
            "c:\\Users\\prave\\AppData\\Local\\Programs\\Python\\Python312\\Lib\\site-packages\\sklearn\\base.py:493: UserWarning: X does not have valid feature names, but OneHotEncoder was fitted with feature names\n",
            "  warnings.warn(\n"
          ]
        }
      ],
      "source": [
        "query = np.array(['lenovo', 'dedicated', 0, 8, True, 512, False, 'windows', 141.51, 'intel core i7'], dtype=object) # Make sure False is a boolean\n",
        "query = query.reshape(1,10)\n",
        "# query[:, 6] = query[:, 6].astype(bool)\n",
        "ans = pipe.predict(query)\n",
        "print(ans)"
      ]
    }
  ],
  "metadata": {
    "colab": {
      "provenance": []
    },
    "kernelspec": {
      "display_name": "Python 3",
      "language": "python",
      "name": "python3"
    },
    "language_info": {
      "codemirror_mode": {
        "name": "ipython",
        "version": 3
      },
      "file_extension": ".py",
      "mimetype": "text/x-python",
      "name": "python",
      "nbconvert_exporter": "python",
      "pygments_lexer": "ipython3",
      "version": "3.12.1"
    }
  },
  "nbformat": 4,
  "nbformat_minor": 5
}
